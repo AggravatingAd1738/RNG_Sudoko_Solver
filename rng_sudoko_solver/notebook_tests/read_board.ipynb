{
 "cells": [
  {
   "cell_type": "markdown",
   "metadata": {},
   "source": [
    "# Load sudoko boards"
   ]
  },
  {
   "cell_type": "code",
   "execution_count": 3,
   "metadata": {},
   "outputs": [],
   "source": [
    "board_path = \"..\\\\..\\\\boards\\\\easy_1.csv\""
   ]
  },
  {
   "cell_type": "markdown",
   "metadata": {},
   "source": [
    "## CSV"
   ]
  },
  {
   "cell_type": "code",
   "execution_count": 12,
   "metadata": {},
   "outputs": [],
   "source": [
    "import pandas as pd\n",
    "import numpy as np"
   ]
  },
  {
   "cell_type": "markdown",
   "metadata": {},
   "source": [
    "### Load board"
   ]
  },
  {
   "cell_type": "code",
   "execution_count": 21,
   "metadata": {},
   "outputs": [
    {
     "data": {
      "text/plain": [
       "array([[0, 5, 0, 0, 6, 9, 2, 0, 0],\n",
       "       [0, 9, 0, 1, 0, 0, 4, 0, 0],\n",
       "       [6, 1, 0, 8, 2, 0, 0, 9, 3],\n",
       "       [0, 3, 0, 0, 9, 8, 0, 4, 2],\n",
       "       [2, 8, 1, 5, 4, 6, 3, 0, 9],\n",
       "       [0, 0, 0, 2, 1, 0, 5, 6, 0],\n",
       "       [1, 0, 0, 0, 5, 4, 0, 2, 0],\n",
       "       [0, 7, 5, 6, 0, 0, 0, 1, 0],\n",
       "       [0, 0, 8, 9, 0, 0, 0, 0, 5]], dtype=uint8)"
      ]
     },
     "execution_count": 21,
     "metadata": {},
     "output_type": "execute_result"
    }
   ],
   "source": [
    "board = pd.read_csv(\n",
    "    board_path,\n",
    "    header=None,\n",
    "    index_col=False,\n",
    "    skipinitialspace=True)\n",
    "board = board.to_numpy(dtype=np.uint8)\n",
    "board"
   ]
  },
  {
   "cell_type": "markdown",
   "metadata": {},
   "source": [
    "### Validate"
   ]
  },
  {
   "cell_type": "code",
   "execution_count": 19,
   "metadata": {},
   "outputs": [
    {
     "data": {
      "text/plain": [
       "True"
      ]
     },
     "execution_count": 19,
     "metadata": {},
     "output_type": "execute_result"
    }
   ],
   "source": [
    "board.shape == (9, 9)"
   ]
  },
  {
   "cell_type": "code",
   "execution_count": 22,
   "metadata": {},
   "outputs": [
    {
     "data": {
      "text/plain": [
       "dtype('uint8')"
      ]
     },
     "execution_count": 22,
     "metadata": {},
     "output_type": "execute_result"
    }
   ],
   "source": [
    "board.dtype == np.uint8"
   ]
  }
 ],
 "metadata": {
  "kernelspec": {
   "display_name": "Python 3.8.6 ('env': venv)",
   "language": "python",
   "name": "python3"
  },
  "language_info": {
   "codemirror_mode": {
    "name": "ipython",
    "version": 3
   },
   "file_extension": ".py",
   "mimetype": "text/x-python",
   "name": "python",
   "nbconvert_exporter": "python",
   "pygments_lexer": "ipython3",
   "version": "3.8.6"
  },
  "orig_nbformat": 4,
  "vscode": {
   "interpreter": {
    "hash": "048c650d2a62d7ecfd874b3969b07c0d19ae19afbc3482efa0f170555607fdf1"
   }
  }
 },
 "nbformat": 4,
 "nbformat_minor": 2
}
